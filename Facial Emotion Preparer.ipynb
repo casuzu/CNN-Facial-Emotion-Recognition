{
 "cells": [
  {
   "cell_type": "markdown",
   "id": "868ff8e8-2cbc-419f-8632-163a9f345ee0",
   "metadata": {},
   "source": [
    "# Facial Emotion Data Preparer"
   ]
  },
  {
   "cell_type": "markdown",
   "id": "cda051f8-f48e-43fd-a326-4ab5637a94f2",
   "metadata": {},
   "source": [
    "## Import the General Libraries"
   ]
  },
  {
   "cell_type": "code",
   "execution_count": 1,
   "id": "16570525-eef1-46ba-88ae-6df03c402f6a",
   "metadata": {},
   "outputs": [],
   "source": [
    "import pandas as pd\n",
    "import numpy as np\n",
    "import random\n",
    "import matplotlib.pyplot as plt\n",
    "import seaborn as sns"
   ]
  },
  {
   "cell_type": "markdown",
   "id": "f7179139-1ed0-490d-b5f4-69ff872f7bb3",
   "metadata": {},
   "source": [
    "## Import the Relevant Image Libraries"
   ]
  },
  {
   "cell_type": "code",
   "execution_count": 2,
   "id": "b48b603e-89de-415c-9fb8-9424d5909a28",
   "metadata": {},
   "outputs": [],
   "source": [
    "import cv2\n",
    "import os\n",
    "from PIL import Image\n",
    "import numpy as np\n",
    "import joblib  # Import joblib for saving and loading images"
   ]
  },
  {
   "cell_type": "markdown",
   "id": "95f314f1-8234-40bf-8634-06764f4d890f",
   "metadata": {},
   "source": [
    "## Load the Cached Train and Test Images"
   ]
  },
  {
   "cell_type": "code",
   "execution_count": 3,
   "id": "217538ad-cdb0-4c0a-9216-780a119ab4e9",
   "metadata": {},
   "outputs": [
    {
     "name": "stdout",
     "output_type": "stream",
     "text": [
      "Loaded cached images of shape (48, 48)\n",
      "Target of the image = angry\n"
     ]
    }
   ],
   "source": [
    "# Load the cached images dataset\n",
    "cached_img_train = joblib.load('cached_img_train.pkl')\n",
    "cached_img_test = joblib.load('cached_img_test.pk1')\n",
    "\n",
    "# Checking the unit data in the dataset\n",
    "print(f'Loaded cached images of shape {cached_img_train[10][0].shape}')\n",
    "print(f'Target of the image = {cached_img_train[10][1]}')"
   ]
  },
  {
   "cell_type": "markdown",
   "id": "5bdfd342-f260-43da-9563-7f6251f0ce5d",
   "metadata": {},
   "source": [
    "### Example of Image Loaded"
   ]
  },
  {
   "cell_type": "code",
   "execution_count": 4,
   "id": "3047b020-be67-4baf-8fe3-1b76e5d58235",
   "metadata": {},
   "outputs": [],
   "source": [
    "#Func to display a single image\n",
    "def show_image(img):\n",
    "    plt.imshow(img, cmap='gray')\n",
    "    plt.axis('off')  # Hide axes\n",
    "    plt.show()"
   ]
  },
  {
   "cell_type": "code",
   "execution_count": 5,
   "id": "a1f5c5a1-59f0-46a7-b4e6-dbf68e025412",
   "metadata": {},
   "outputs": [
    {
     "data": {
      "image/png": "[encoded data removed]",
      "text/plain": [
       "<Figure size 640x480 with 1 Axes>"
      ]
     },
     "metadata": {},
     "output_type": "display_data"
    }
   ],
   "source": [
    "#Display the first image in train images\n",
    "show_image(cached_img_train[10][0])"
   ]
  },
  {
   "cell_type": "markdown",
   "id": "04d4b441-db9b-40bd-afed-8125471e6ce4",
   "metadata": {},
   "source": [
    "## Exploring and/or Modifying the Image Data"
   ]
  },
  {
   "cell_type": "markdown",
   "id": "9258fbcc-cd5c-4a87-a5b7-0a4a43012b22",
   "metadata": {},
   "source": [
    "### Normalize the Three Image Datasets"
   ]
  },
  {
   "cell_type": "code",
   "execution_count": 6,
   "id": "ef589136-fb57-4b20-9941-e9f3a1516e58",
   "metadata": {},
   "outputs": [],
   "source": [
    "#Function normalizes img from 0 to 1\n",
    "def normalize_images(img_arr):\n",
    "    max_value = np.max(img_arr)\n",
    "    return np.array(img_arr) / max_value  # Normalize to [0, 1]"
   ]
  },
  {
   "cell_type": "code",
   "execution_count": 7,
   "id": "a3837bb6-14fe-495a-9af2-dc311806218e",
   "metadata": {},
   "outputs": [],
   "source": [
    "#Check if an image is normalized else normalize it.\n",
    "def check_n_normalize(image):\n",
    "    #Gets the highest and lowest values in the given image\n",
    "    min_value = np.min(image)\n",
    "    max_value = np.max(image)\n",
    "    #print(\"====================================\")\n",
    "    #print(f'Min value: {min_value}, Max value: {max_value}')\n",
    "\n",
    "    # Check if the image dataset min and max value are between 0 and 1(0 and 1 included) \n",
    "    #else normalize the dataset.\n",
    "    \n",
    "    if min_value >= 0 and max_value <= 1:\n",
    "        #print(\"Images are normalized to [0, 1]\")\n",
    "        return image\n",
    "    else:\n",
    "        #print(\"Images are not normalized.\")\n",
    "        return normalize_images(image)\n"
   ]
  },
  {
   "cell_type": "code",
   "execution_count": 8,
   "id": "04dd23e7-6439-4168-9371-06d4e7d567f8",
   "metadata": {},
   "outputs": [
    {
     "name": "stdout",
     "output_type": "stream",
     "text": [
      "min_value =  0.0\n",
      "max_value =  1.0\n"
     ]
    }
   ],
   "source": [
    "#Normalize all the train, validation and test image dataset\n",
    "for i in range(0, len(cached_img_train)):\n",
    "    cached_img_train[i][0] = check_n_normalize(cached_img_train[i][0])\n",
    "    \n",
    "for i in range(0, len(cached_img_test)):\n",
    "    cached_img_test[i][0] = check_n_normalize(cached_img_test[i][0])\n",
    "\n",
    "#Show a single example\n",
    "print(\"min_value = \", np.min(cached_img_train[5][0]))\n",
    "print(\"max_value = \", np.max(cached_img_train[5][0]))"
   ]
  },
  {
   "cell_type": "code",
   "execution_count": 9,
   "id": "d29c9f97-ec9a-4563-8bfc-25304dfec89d",
   "metadata": {},
   "outputs": [],
   "source": [
    "normed_img_train = cached_img_train.copy()\n",
    "normed_img_test = cached_img_test.copy()"
   ]
  },
  {
   "cell_type": "markdown",
   "id": "a721a50a-7e92-4379-a090-5fc13db22cf0",
   "metadata": {},
   "source": [
    "### Data Balancing Via Rotating and Flipping the Some of the Image Data"
   ]
  },
  {
   "cell_type": "markdown",
   "id": "f3708a0d-2a9d-4ec8-b5c9-1de10f7da3f6",
   "metadata": {},
   "source": [
    "The image data in the dataset can be rotated and flipped to improve the CNN model generalization and to generate more images from the existing dataset.\n",
    "\n",
    "10% of the highest emotion set(the happiness set as of right now) in the training and test dataset will be rotated(at given angles) and flipped (horizontally). This 10% will be added to the highest set increasing its data size by 10%.\n",
    "\n",
    "The other sets(angry, disgust, fear, e.t.c.) will have an amount be rotated, flipped, and added to their original set. This amount will be equal to the 10% of the highest emotion set(happiness set). Thus bringing all the number of images in the sets in the entire dataset(train and test) to be an equal amount with respect to their dataset(train or test). \n",
    "\n",
    "At the end, all rotated and flipped generated data will be added back to their original dataset increasing their size and image variations. These rotation and flipped percentages were chosen to be small but significant enough.\n",
    "\n",
    "The angles selected will be a range of (-10, 10)(0 excluded as most images are already upright)"
   ]
  },
  {
   "cell_type": "code",
   "execution_count": 10,
   "id": "6077d941-01c1-40f1-9e63-8fe8e09fda7c",
   "metadata": {},
   "outputs": [],
   "source": [
    "def rotate_image(img_array, mean=0, std_dev=30, angle_limit=(-10, 10)):\n",
    "    #Rotation angles are randomly selected from a gaussian distribution that excludes zero from being selected.\n",
    "    #The small standard deviation of 30 was chosen to increase the chances that angles that slightly rotate \n",
    "    #the image from its upright positions are chosen.\n",
    "    #The angle limit of(-10, 10) was chosen to mimic the natural tilting of the human head. Where an upright head is at angle 0.\n",
    "\n",
    "    #Angle chosen to represent an upright human head.\n",
    "    UPRIGHT_ANGLE = 0\n",
    "    \n",
    "    # Convert numpy array to PIL Image\n",
    "    img = Image.fromarray(img_array)\n",
    "    \n",
    "    # Generate a non-zero random angle within the specified range of ()\n",
    "    angle = int(random.uniform(*angle_limit))\n",
    "\n",
    "    #If 0 or any angle past the limits are are chosen\n",
    "    #Randomly chose another angle within a normal distribution with a standard deviation of 30\n",
    "    while angle == UPRIGHT_ANGLE or angle < angle_limit[0] or angle > angle_limit[1]:\n",
    "        angle = random.gauss(mean, std_dev)\n",
    "\n",
    "    \n",
    "    # Rotate the image\n",
    "    rotated_img_np = img.rotate(angle, resample=Image.BICUBIC, expand=True)\n",
    "\n",
    "    # Convert to numpy array\n",
    "    #rotated_img_np = np.array(rotated_img)\n",
    "\n",
    "    # Apply padding tofill up black shades from rotating\n",
    "    #padded_rotated_img_np = np.pad(\n",
    "    #rotated_img_np,\n",
    "    #pad_width=((5, 5), (5, 5)),  # adjust padding as needed\n",
    "    #mode='reflect'\n",
    "    #)\n",
    "    # Pad the image to fill black borders (after rotation)\n",
    "    #padded_rotated_img_np = np.pad(\n",
    "     #   rotated_img_np,\n",
    "     #   pad_width=((5, 5), (5, 5)),  # adjust padding as needed (5 pixels on each side)\n",
    "     #   mode='reflect'  # use 'reflect' to avoid black borders\n",
    "    #)\n",
    "    \n",
    "    # Convert back to PIL Image\n",
    "    #rotated_padded_img = Image.fromarray(rotated_padded_img_np)\n",
    "    \n",
    "    #Resize the img\n",
    "    #img_rotated_resized = padded_rotated_img.resize((48, 48))\n",
    "    img_rotated_resized = rotated_img_np.resize((48, 48))\n",
    "    \n",
    "    # Convert back to numpy array\n",
    "    return np.array(img_rotated_resized), angle\n"
   ]
  },
  {
   "cell_type": "code",
   "execution_count": 11,
   "id": "100d6ae1-ca3a-4e0e-a8ff-b6d96d55a90e",
   "metadata": {},
   "outputs": [],
   "source": [
    "def horizontal_flip_image(img_array):\n",
    "    #50% chance to Flip the image horizontally.\n",
    "    \n",
    "     # Convert numpy array to PIL Image\n",
    "    img = Image.fromarray(img_array)\n",
    "\n",
    "    # 50% chance to flip the image horizontally\n",
    "    if random.choice([True, False]):\n",
    "        # Flip the image horizontally\n",
    "        img = img.transpose(Image.FLIP_LEFT_RIGHT)\n",
    "        \n",
    "    # Convert back to numpy array\n",
    "    return np.array(img)"
   ]
  },
  {
   "cell_type": "code",
   "execution_count": 12,
   "id": "036c710d-3003-41f0-9e0b-353506bcfb7e",
   "metadata": {},
   "outputs": [
    {
     "name": "stdout",
     "output_type": "stream",
     "text": [
      "Rotated angle =  -6\n",
      "Rotated img shape =  (48, 48)\n"
     ]
    },
    {
     "data": {
      "image/png": "[encoded data removed]",
      "text/plain": [
       "<Figure size 640x480 with 1 Axes>"
      ]
     },
     "metadata": {},
     "output_type": "display_data"
    },
    {
     "data": {
      "image/png": "[encoded data removed]",
      "text/plain": [
       "<Figure size 640x480 with 1 Axes>"
      ]
     },
     "metadata": {},
     "output_type": "display_data"
    }
   ],
   "source": [
    "# testing the rotation and the flipping of the images\n",
    "train_img1 = normed_img_train[0][0]\n",
    "\n",
    "rotated_train_img1, rotated_angle = rotate_image(train_img1)\n",
    "flipped_rotated_train_img1 = horizontal_flip_image(rotated_train_img1)\n",
    "\n",
    "print(\"Rotated angle = \", rotated_angle)\n",
    "print(\"Rotated img shape = \", flipped_rotated_train_img1.shape)\n",
    "show_image(train_img1)\n",
    "show_image(flipped_rotated_train_img1)"
   ]
  },
  {
   "cell_type": "markdown",
   "id": "5545bfda-168c-4aad-be21-c1324116d401",
   "metadata": {},
   "source": [
    "#### Data Balancing of Train and Test Datasets\n",
    "#### --------------------------------------------------"
   ]
  },
  {
   "cell_type": "markdown",
   "id": "ef424530-8a50-4b3d-ba66-da16e97a1010",
   "metadata": {},
   "source": [
    "#### Getting the Numerical Limit for the Generated Data"
   ]
  },
  {
   "cell_type": "code",
   "execution_count": 13,
   "id": "601c752d-dbfc-4f0f-a285-de2cf7382b78",
   "metadata": {},
   "outputs": [],
   "source": [
    "# Func to get both the emotion class with the highest observations and its number of observations.\n",
    "\n",
    "#counter is used to count the number of times each unique emotion is present in the dataset.\n",
    "from collections import Counter\n",
    "\n",
    "def most_frequent_emotion(img_dataset):\n",
    "    \n",
    "    # Use Counter to count occurrences of each unique emotion\n",
    "    counter = Counter(img_dataset)\n",
    "    \n",
    "    # Get the most highest count emotion and its count\n",
    "    # The argument 1 means we only want the top result.\n",
    "    # [0] returns a tuple of the name of the emotion and its count\n",
    "    most_common = counter.most_common(1)[0]\n",
    "    \n",
    "    return most_common"
   ]
  },
  {
   "cell_type": "code",
   "execution_count": 14,
   "id": "84631aa8-f878-4867-835a-3c8efc4768fe",
   "metadata": {},
   "outputs": [
    {
     "name": "stdout",
     "output_type": "stream",
     "text": [
      "happy is the emotion with the highest count of 7215 in the train dataset\n",
      "happy is the emotion with the highest count of 1774 in the test dataset\n"
     ]
    }
   ],
   "source": [
    "#Get the emotion column for both the train and test datset for use with the counter function\n",
    "img_train_emotions = [row[1] for row in normed_img_train]\n",
    "img_test_emotions = [row[1] for row in normed_img_test]\n",
    "\n",
    "#For both the train and test emotion columns, get the name and the highest count for the emotion with the most observations.\n",
    "highest_train_emotion, train_emotion_count = most_frequent_emotion(img_train_emotions)\n",
    "highest_test_emotion, test_emotion_count = most_frequent_emotion(img_test_emotions)\n",
    "\n",
    "#Display the result.\n",
    "print(f'{highest_train_emotion} is the emotion with the highest count of {train_emotion_count} in the train dataset')\n",
    "print(f'{highest_test_emotion} is the emotion with the highest count of {test_emotion_count} in the test dataset')"
   ]
  },
  {
   "cell_type": "code",
   "execution_count": 15,
   "id": "0e6a71ef-c0eb-49f2-b481-f1d1ab765ca8",
   "metadata": {},
   "outputs": [],
   "source": [
    "#Get the emotion column for the train datset for use with the counter function\n",
    "#img_train_emotions = [row[1] for row in normed_img_train]\n",
    "\n",
    "#For the train emotion columns, get the name and the highest count for the emotion with the most observations.\n",
    "#highest_train_emotion, train_emotion_count = most_frequent_emotion(img_train_emotions)\n",
    "\n",
    "#Display the result.\n",
    "#print(f'{highest_train_emotion} is the emotion with the highest count of {train_emotion_count} in the train dataset')"
   ]
  },
  {
   "cell_type": "code",
   "execution_count": 16,
   "id": "cd492249-9e13-4a00-876c-3e15f3628724",
   "metadata": {},
   "outputs": [
    {
     "name": "stdout",
     "output_type": "stream",
     "text": [
      "Number of observations after adding the new generated data to their respective emotion classes in the train dataset is 7936\n",
      "Number of observations after adding the new generated data to their respective emotion classes in the test dataset is 1951\n"
     ]
    }
   ],
   "source": [
    "#Set a max limit for generating new img data from rotating and flipping.\n",
    "#This max limit is based on the highest count for the emotion with the most observations.\n",
    "TRAIN_IMG_GENERATIVE_LIMIT = int(train_emotion_count + 0.1*train_emotion_count)\n",
    "TEST_IMG_GENERATIVE_LIMIT = int(test_emotion_count + 0.1*test_emotion_count)\n",
    "\n",
    "print(f'Number of observations after adding the new generated data to their respective emotion classes in the train dataset is {TRAIN_IMG_GENERATIVE_LIMIT}')\n",
    "\n",
    "print(f'Number of observations after adding the new generated data to their respective emotion classes in the test dataset is {TEST_IMG_GENERATIVE_LIMIT}')"
   ]
  },
  {
   "cell_type": "code",
   "execution_count": 17,
   "id": "e5ed1700-368e-482a-944a-40b8d20131e6",
   "metadata": {},
   "outputs": [],
   "source": [
    "#Set a max limit for generating new img data from rotating and flipping.\n",
    "#This max limit is based on the highest count for the emotion with the most observations.\n",
    "#TRAIN_IMG_GENERATIVE_LIMIT = int(train_emotion_count + 0.1*train_emotion_count)\n",
    "\n",
    "#print(f'Number of observations after adding the new generated data to their respective emotion classes in the train dataset is {TRAIN_IMG_GENERATIVE_LIMIT}')"
   ]
  },
  {
   "cell_type": "markdown",
   "id": "bee5a26a-981e-4abc-a2d4-d3f28ba834ad",
   "metadata": {},
   "source": [
    "#### Training Data Balancing"
   ]
  },
  {
   "cell_type": "code",
   "execution_count": 18,
   "id": "708a2f16-00b1-4a47-9399-f2551f63fe23",
   "metadata": {},
   "outputs": [],
   "source": [
    "#Func for splitting the dataset and grouping by their unique emotions.\n",
    "#Returns a dict: A dictionary where keys are unique values in the specified column and values are numpy arrays\n",
    "#containing rows corresponding to each unique value.\n",
    "def split_dataset_by_emotion(data, column_index):\n",
    "    \n",
    "   # Create a dictionary to hold the split datasets\n",
    "    split_datasets = {}\n",
    "    \n",
    "    # Iterate over each row in the data\n",
    "    for row in data:\n",
    "        # Get the value in the specified column\n",
    "        key = row[column_index]\n",
    "        \n",
    "        # Append the row to the corresponding key in the dictionary\n",
    "        if key not in split_datasets:\n",
    "            split_datasets[key] = []\n",
    "        split_datasets[key].append(row)\n",
    "    \n",
    "    return split_datasets"
   ]
  },
  {
   "cell_type": "markdown",
   "id": "1b3662e4-97f2-4760-8357-7751fb5d2bdd",
   "metadata": {},
   "source": [
    "#### Train Data Balancing"
   ]
  },
  {
   "cell_type": "code",
   "execution_count": 19,
   "id": "a7a73130-3a98-4727-a6ab-8b919da5584b",
   "metadata": {},
   "outputs": [
    {
     "name": "stdout",
     "output_type": "stream",
     "text": [
      "In the Train Dataset\n",
      "-------------------------\n",
      "\n",
      "TRAIN_IMG_GENERATIVE_LIMIT = 7936\n",
      "\n",
      "In Category angry:\n",
      " There were 3995 observations.\n",
      "num_of_new_data =  3941\n",
      "There are now 7936 observations.\n",
      "\n",
      "In Category disgust:\n",
      " There were 436 observations.\n",
      "num_of_new_data =  7500\n",
      "There are now 7936 observations.\n",
      "\n",
      "In Category fear:\n",
      " There were 4097 observations.\n",
      "num_of_new_data =  3839\n",
      "There are now 7936 observations.\n",
      "\n",
      "In Category happy:\n",
      " There were 7215 observations.\n",
      "num_of_new_data =  721\n",
      "There are now 7936 observations.\n",
      "\n",
      "In Category neutral:\n",
      " There were 4965 observations.\n",
      "num_of_new_data =  2971\n",
      "There are now 7936 observations.\n",
      "\n",
      "In Category sad:\n",
      " There were 4830 observations.\n",
      "num_of_new_data =  3106\n",
      "There are now 7936 observations.\n",
      "\n",
      "In Category surprise:\n",
      " There were 3171 observations.\n",
      "num_of_new_data =  4765\n",
      "There are now 7936 observations.\n",
      "\n"
     ]
    }
   ],
   "source": [
    "# Split the dataset by emotions (index 1)\n",
    "split_train_data = split_dataset_by_emotion(normed_img_train, column_index=1)\n",
    "\n",
    "# Display the results\n",
    "print(\"In the Train Dataset\")\n",
    "print(\"-------------------------\\n\")\n",
    "print(f\"TRAIN_IMG_GENERATIVE_LIMIT = {TRAIN_IMG_GENERATIVE_LIMIT}\\n\")\n",
    "\n",
    "#Generate the new image data for each emotion class up to the IMG_GENERATIVE_LIMIT.\n",
    "#Get the emotion catergory key and subset value pair[image, target] from the dictionary.\n",
    "for category, subset in split_train_data.items():\n",
    "    #Display how much observation were in the emotion class before adding the generated image data via rotation and flipping.\n",
    "    print(f\"In Category {category}:\\n There were {len(subset)} observations.\")\n",
    "\n",
    "    #Keep a track record of the number of new data generated\n",
    "    num_of_new_data = 0\n",
    "    #Get the number of the observations in the emotion class before adding new data to said class.\n",
    "    old_len_subset = len(subset)\n",
    "    \n",
    "    while num_of_new_data < (TRAIN_IMG_GENERATIVE_LIMIT - old_len_subset):\n",
    "        random_index = np.random.choice(len(subset))  # Get a random index\n",
    "        random_row = subset[random_index]  # Use the random index to pick the row containing the image\n",
    "    \n",
    "       \n",
    "        #Fill the emotion subset with new generated image data until the total number of obeservations\n",
    "        #in that subset is equal to the TRAIN_IMG_GENERATIVE_LIMIT.   \n",
    "            \n",
    "        #Rotate and flip the image in the subset\n",
    "        rotated_img, rotation_angle = rotate_image(random_row[0])# Rotate the image in the row and discard the rotation angle\n",
    "       \n",
    "        flipped_rotated_img = np.array(horizontal_flip_image(rotated_img))\n",
    "        #flipped_img = np.array(horizontal_flip_image(random_row[0]))\n",
    "        \n",
    "        split_train_data[category].append([flipped_rotated_img, category] )\n",
    "        num_of_new_data += 1\n",
    "    print(\"num_of_new_data = \", num_of_new_data)\n",
    "        \n",
    "    print(f\"There are now {len(subset)} observations.\\n\")"
   ]
  },
  {
   "cell_type": "markdown",
   "id": "89d91469-31c2-422e-a35f-a0cadb0a1dc4",
   "metadata": {},
   "source": [
    "#### Test Data Balancing"
   ]
  },
  {
   "cell_type": "code",
   "execution_count": 20,
   "id": "6d12bf7b-3b62-4db5-8404-4bf759083de5",
   "metadata": {},
   "outputs": [
    {
     "name": "stdout",
     "output_type": "stream",
     "text": [
      "In the Test Dataset\n",
      "-------------------------\n",
      "\n",
      "TEST_IMG_GENERATIVE_LIMIT = 1951\n",
      "\n",
      "In Category angry:\n",
      " There were 958 observations.\n",
      "num_of_new_data =  993\n",
      "There are now 1951 observations.\n",
      "\n",
      "In Category disgust:\n",
      " There were 111 observations.\n",
      "num_of_new_data =  1840\n",
      "There are now 1951 observations.\n",
      "\n",
      "In Category fear:\n",
      " There were 1024 observations.\n",
      "num_of_new_data =  927\n",
      "There are now 1951 observations.\n",
      "\n",
      "In Category happy:\n",
      " There were 1774 observations.\n",
      "num_of_new_data =  177\n",
      "There are now 1951 observations.\n",
      "\n",
      "In Category neutral:\n",
      " There were 1233 observations.\n",
      "num_of_new_data =  718\n",
      "There are now 1951 observations.\n",
      "\n",
      "In Category sad:\n",
      " There were 1247 observations.\n",
      "num_of_new_data =  704\n",
      "There are now 1951 observations.\n",
      "\n",
      "In Category surprise:\n",
      " There were 831 observations.\n",
      "num_of_new_data =  1120\n",
      "There are now 1951 observations.\n",
      "\n"
     ]
    }
   ],
   "source": [
    "\n",
    "# Split the datset by emotions (index 1)\n",
    "split_test_data = split_dataset_by_emotion(normed_img_test, column_index=1)\n",
    "\n",
    "# Display the results\n",
    "print(\"In the Test Dataset\")\n",
    "print(\"-------------------------\\n\")\n",
    "print(f\"TEST_IMG_GENERATIVE_LIMIT = {TEST_IMG_GENERATIVE_LIMIT}\\n\")\n",
    "\n",
    "#Generate the new image data for each emotion class up to the IMG_GENERATIVE_LIMIT.\n",
    "#Get the emotion catergory key and subset value pair[image, target] from the dictionary.\n",
    "for category, subset in split_test_data.items():\n",
    "    #Display how much observation were in the emotion class before adding the generated image data via rotation and flipping.\n",
    "    print(f\"In Category {category}:\\n There were {len(subset)} observations.\")\n",
    "\n",
    "    #Keep a track record of the number of new data generated\n",
    "    num_of_new_data = 0\n",
    "    #Get the number of the observations in the emotion class before adding new data to said class.\n",
    "    old_len_subset = len(subset)\n",
    "    \n",
    "    while num_of_new_data < (TEST_IMG_GENERATIVE_LIMIT - old_len_subset):\n",
    "        random_index = np.random.choice(len(subset))  # Get a random index\n",
    "        random_row = subset[random_index]  # Use the random index to pick the row containing the image\n",
    "    \n",
    "       \n",
    "        #Fill the emotion subset with new generated image data until the total number of obeservations\n",
    "        #in that subset is equal to the TRAIN_IMG_GENERATIVE_LIMIT.   \n",
    "            \n",
    "        #Rotate and flip the image in the subset\n",
    "        rotated_img, rotation_angle = rotate_image(random_row[0])# Rotate the image in the row and discard the rotation angle\n",
    "        rotated_img = np.array(rotated_img)\n",
    "        flipped_rotated_img = np.array(horizontal_flip_image(rotated_img))\n",
    "        #flipped_img = np.array(horizontal_flip_image(random_row[0]))\n",
    "        \n",
    "        split_test_data[category].append([flipped_rotated_img, category] )\n",
    "        num_of_new_data += 1\n",
    "    print(\"num_of_new_data = \", num_of_new_data)\n",
    "        \n",
    "    print(f\"There are now {len(subset)} observations.\\n\")\n",
    "   \n",
    "        "
   ]
  },
  {
   "cell_type": "code",
   "execution_count": 21,
   "id": "12565376-f197-41d1-b635-009d1b5ebba4",
   "metadata": {},
   "outputs": [],
   "source": [
    "#Convert the dictionary back to a list of images and emotion target\n",
    "def flatten_dict_to_list_with_category(split_data):\n",
    "    # Create an empty list to store the final flattened rows\n",
    "    flattened_list = []\n",
    "\n",
    "    # Iterate over each category and its corresponding list of rows\n",
    "    for category, subset in split_data.items():\n",
    "        # For each row in the subset, append a tuple (image, category)\n",
    "        for row in subset:\n",
    "            flattened_list.append([row[0], category])  # row[0] is the image, category is the label\n",
    "\n",
    "    return flattened_list"
   ]
  },
  {
   "cell_type": "code",
   "execution_count": 22,
   "id": "4b5c2ea6-ba71-4aa0-a64d-444aaa4d909f",
   "metadata": {},
   "outputs": [
    {
     "name": "stdout",
     "output_type": "stream",
     "text": [
      "size of CNN_img_train =  55552\n",
      "target =  neutral\n"
     ]
    },
    {
     "data": {
      "image/png": "[encoded data removed]",
      "text/plain": [
       "<Figure size 640x480 with 1 Axes>"
      ]
     },
     "metadata": {},
     "output_type": "display_data"
    }
   ],
   "source": [
    "\n",
    "CNN_ready_img_train = flatten_dict_to_list_with_category(split_train_data)\n",
    "CNN_ready_img_test = flatten_dict_to_list_with_category(split_test_data)\n",
    "\n",
    "print(\"size of CNN_img_train = \", len(CNN_ready_img_train))\n",
    "\n",
    "random_index = np.random.choice(len(CNN_ready_img_train))  # Get a random index\n",
    "random_train_img = CNN_ready_img_train[random_index][0]\n",
    "\n",
    "print(\"target = \", CNN_ready_img_train[random_index][1])\n",
    "show_image(random_train_img)\n"
   ]
  },
  {
   "cell_type": "markdown",
   "id": "27383663-a893-4024-8fa2-4190ade6b2bf",
   "metadata": {},
   "source": [
    "#### Splitting the Validation Set from the Training Set "
   ]
  },
  {
   "cell_type": "code",
   "execution_count": 23,
   "id": "bbd1344c-22e9-4009-aa1e-cb0d5650b25c",
   "metadata": {},
   "outputs": [
    {
     "name": "stdout",
     "output_type": "stream",
     "text": [
      "size of CNN_img_train =  44441\n",
      "size of CNN_img_val =  11111\n"
     ]
    }
   ],
   "source": [
    "# Ensure reproducible random selection\n",
    "np.random.seed(42)\n",
    "\n",
    "# Calculate the split index\n",
    "split = int(0.8 * len(CNN_ready_img_train))\n",
    "\n",
    "# Shuffle the dataset indices randomly\n",
    "shuffled_indices = np.random.permutation(len(CNN_ready_img_train))\n",
    "\n",
    "# Use the first 80% for training and the remaining 20% for validation\n",
    "train_indices = shuffled_indices[:split]\n",
    "val_indices = shuffled_indices[split:]\n",
    "\n",
    "# Create train and validation sets\n",
    "CNN_ready_img_train_split = [CNN_ready_img_train[i] for i in train_indices]\n",
    "CNN_ready_img_val_split = [CNN_ready_img_train[i] for i in val_indices]\n",
    "\n",
    "CNN_ready_img_train = CNN_ready_img_train_split.copy()\n",
    "CNN_ready_img_val = CNN_ready_img_val_split.copy()\n",
    "\n",
    "print(\"size of CNN_img_train = \", len(CNN_ready_img_train))\n",
    "print(\"size of CNN_img_val = \", len(CNN_ready_img_val))"
   ]
  },
  {
   "cell_type": "markdown",
   "id": "3c2067c4-62d3-47d1-8d82-20af569a20f3",
   "metadata": {},
   "source": [
    "## Exporting the Data For Convolutional Neural Network Training"
   ]
  },
  {
   "cell_type": "code",
   "execution_count": 24,
   "id": "c2a17602-f035-43eb-99a4-b2639f24cd28",
   "metadata": {},
   "outputs": [
    {
     "data": {
      "text/plain": [
       "['CNN_ready_img_test.pk1']"
      ]
     },
     "execution_count": 24,
     "metadata": {},
     "output_type": "execute_result"
    }
   ],
   "source": [
    "joblib.dump(CNN_ready_img_train, 'CNN_ready_img_train.pkl')\n",
    "joblib.dump(CNN_ready_img_val, 'CNN_ready_img_val.pkl')\n",
    "joblib.dump(CNN_ready_img_test, 'CNN_ready_img_test.pk1')"
   ]
  },
  {
   "cell_type": "code",
   "execution_count": null,
   "id": "5c24451a-323f-4ceb-b8ba-a1d002ad00e2",
   "metadata": {},
   "outputs": [],
   "source": []
  }
 ],
 "metadata": {
  "kernelspec": {
   "display_name": "Python 3 (ipykernel)",
   "language": "python",
   "name": "python3"
  },
  "language_info": {
   "codemirror_mode": {
    "name": "ipython",
    "version": 3
   },
   "file_extension": ".py",
   "mimetype": "text/x-python",
   "name": "python",
   "nbconvert_exporter": "python",
   "pygments_lexer": "ipython3",
   "version": "3.11.7"
  }
 },
 "nbformat": 4,
 "nbformat_minor": 5
}
